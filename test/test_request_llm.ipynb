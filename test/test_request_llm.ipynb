{
 "cells": [
  {
   "cell_type": "code",
   "execution_count": 3,
   "metadata": {},
   "outputs": [],
   "source": [
    "import os\n",
    "import sys\n",
    "from slack_sdk import WebClient\n",
    "from slack_sdk.errors import SlackApiError\n",
    "import logging\n",
    "\n",
    "sys.path.append(os.pardir)\n",
    "from database.database import Database\n",
    "from config import SLACK_API_TOKEN, SLACK_CHANNEL, DATABASE_NAME\n",
    "from utils.utilts import get_papers, fetch_interesting_points, fetch_summary\n",
    "from main import post_to_slack\n",
    "\n",
    "logging.basicConfig(\n",
    "    level=logging.INFO,\n",
    "    format=\"%(asctime)s [%(levelname)s] %(message)s\",\n",
    "    handlers=[logging.StreamHandler()],\n",
    ")\n",
    "\n",
    "logger = logging.getLogger(__name__)\n",
    "\n",
    "\n",
    "client = WebClient(token=SLACK_API_TOKEN)"
   ]
  },
  {
   "cell_type": "code",
   "execution_count": null,
   "metadata": {},
   "outputs": [],
   "source": [
    "db = Database(DATABASE_NAME)\n",
    "db.init_database()\n",
    "\n",
    "try:\n",
    "    paper = get_papers(db)\n",
    "    summary = fetch_summary(paper)\n",
    "    interesting_points = fetch_interesting_points(paper)\n",
    "    main_text = f\"\"\"\n",
    "    *タイトル:* {paper.title}\n",
    "    *著者名:* {paper.authors}\n",
    "    *リンク:* {paper.url}\n",
    "    \"\"\"\n",
    "\n",
    "    reply_text = f\"\"\"\n",
    "    *概要:*\\n{summary}\n",
    "    *提出日:* {paper.submitted}\n",
    "    *面白いポイント:*\\n{interesting_points}\n",
    "    ChatPDFで読む: https://www.chatpdf.com/\n",
    "    \"\"\"\n",
    "    post_to_slack(main_text, reply_text)\n",
    "    logger.info(f\"Posted a paper: {paper.title}\")\n",
    "except Exception as e:\n",
    "    logger.error(f\"Error: {e}\")"
   ]
  },
  {
   "cell_type": "code",
   "execution_count": null,
   "metadata": {},
   "outputs": [],
   "source": []
  }
 ],
 "metadata": {
  "kernelspec": {
   "display_name": "post-research-papers-to-slack-py3.10",
   "language": "python",
   "name": "post-research-papers-to-slack-py3.10"
  },
  "language_info": {
   "codemirror_mode": {
    "name": "ipython",
    "version": 3
   },
   "file_extension": ".py",
   "mimetype": "text/x-python",
   "name": "python",
   "nbconvert_exporter": "python",
   "pygments_lexer": "ipython3",
   "version": "3.10.6"
  }
 },
 "nbformat": 4,
 "nbformat_minor": 2
}
