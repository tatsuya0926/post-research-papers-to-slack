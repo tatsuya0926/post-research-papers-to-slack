{
 "cells": [
  {
   "cell_type": "code",
   "execution_count": 3,
   "metadata": {},
   "outputs": [],
   "source": [
    "import os\n",
    "import sys\n",
    "from slack_sdk import WebClient\n",
    "from slack_sdk.errors import SlackApiError\n",
    "import logging\n",
    "\n",
    "sys.path.append(os.pardir)\n",
    "from database.database import Database\n",
    "from config import SLACK_API_TOKEN, SLACK_CHANNEL, DATABASE_NAME\n",
    "from utils.utilts import get_papers, fetch_interesting_points, fetch_summary\n",
    "\n",
    "logging.basicConfig(\n",
    "    level=logging.INFO,\n",
    "    format=\"%(asctime)s [%(levelname)s] %(message)s\",\n",
    "    handlers=[logging.StreamHandler()],\n",
    ")\n",
    "\n",
    "logger = logging.getLogger(__name__)\n",
    "\n",
    "\n",
    "client = WebClient(token=SLACK_API_TOKEN)"
   ]
  },
  {
   "cell_type": "code",
   "execution_count": 4,
   "metadata": {},
   "outputs": [
    {
     "name": "stderr",
     "output_type": "stream",
     "text": [
      "2025-04-03 23:08:37,010 [INFO] Requesting page (first: True, try: 0): https://export.arxiv.org/api/query?search_query=%28ti%3A%22parallel+tempering%22+OR+ti%3A%22replica+exchange+monte+carlo%22%29+OR+%28au%3A%22Koji+Hukushima%22%29&id_list=&sortBy=submittedDate&sortOrder=descending&start=0&max_results=100\n",
      "2025-04-03 23:08:38,623 [INFO] Got first page: 100 of 172 total results\n",
      "2025-04-03 23:08:38,626 [INFO] INSERT : http://arxiv.org/abs/2409.07679v1 / Ratio Divergence Learning Using Target Energy in Restricted Boltzmann Machines: Beyond Kullback--Leibler Divergence Learning\n",
      "2025-04-03 23:08:44,346 [INFO] HTTP Request: POST http://127.0.0.1:11434/api/chat \"HTTP/1.1 200 OK\"\n",
      "2025-04-03 23:08:53,331 [INFO] HTTP Request: POST http://127.0.0.1:11434/api/chat \"HTTP/1.1 200 OK\"\n",
      "2025-04-03 23:08:53,962 [INFO] Posted a paper: Ratio Divergence Learning Using Target Energy in Restricted Boltzmann Machines: Beyond Kullback--Leibler Divergence Learning\n"
     ]
    }
   ],
   "source": [
    "db = Database(DATABASE_NAME)\n",
    "db.init_database()\n",
    "\n",
    "try:\n",
    "    paper = get_papers(db)\n",
    "    summary = fetch_summary(paper)\n",
    "    interesting_points = fetch_interesting_points(paper)\n",
    "    text = f\"\"\"\n",
    "        *タイトル: {paper.title}*\\n\\n\n",
    "        *著者名: {paper.authors}*\\n\\n\n",
    "        *概要*\\n{summary}\\n\\n\n",
    "        *リンク*\\n{paper.url}\\n\\n\n",
    "        *提出日*\\n{paper.submitted}\\n\\n\n",
    "        *以下、面白いポイント*\\n{interesting_points}\\n\\n\n",
    "        ChatPDFで読む: https://www.chatpdf.com/ \\n\\n\n",
    "        論文を読む: {paper.url}.pdf\n",
    "    \"\"\"\n",
    "    try:\n",
    "        response = client.chat_postMessage(channel=SLACK_CHANNEL, text=text)\n",
    "    except SlackApiError as e:\n",
    "        logger.error(f\"Error posting to Slack: {e}\")\n",
    "    logger.info(f\"Posted a paper: {paper.title}\")\n",
    "except Exception as e:\n",
    "    logger.error(f\"Error: {e}\")"
   ]
  },
  {
   "cell_type": "code",
   "execution_count": null,
   "metadata": {},
   "outputs": [],
   "source": []
  }
 ],
 "metadata": {
  "kernelspec": {
   "display_name": "post-research-papers-to-slack-py3.10",
   "language": "python",
   "name": "post-research-papers-to-slack-py3.10"
  },
  "language_info": {
   "codemirror_mode": {
    "name": "ipython",
    "version": 3
   },
   "file_extension": ".py",
   "mimetype": "text/x-python",
   "name": "python",
   "nbconvert_exporter": "python",
   "pygments_lexer": "ipython3",
   "version": "3.10.6"
  }
 },
 "nbformat": 4,
 "nbformat_minor": 2
}
